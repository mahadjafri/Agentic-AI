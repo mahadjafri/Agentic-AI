{
 "cells": [
  {
   "cell_type": "markdown",
   "metadata": {},
   "source": [
    "# Welcome to the start of your adventure in Agentic AI"
   ]
  },
  {
   "cell_type": "markdown",
   "metadata": {},
   "source": [
    "<table style=\"margin: 0; text-align: left; width:100%\">\n",
    "    <tr>\n",
    "        <td style=\"width: 150px; height: 150px; vertical-align: middle;\">\n",
    "            <img src=\"../assets/stop.png\" width=\"150\" height=\"150\" style=\"display: block;\" />\n",
    "        </td>\n",
    "        <td>\n",
    "            <h2 style=\"color:#ff7800;\">Are you ready for action??</h2>\n",
    "            <span style=\"color:#ff7800;\">Have you completed all the setup steps in the <a href=\"../setup/\">setup</a> folder?<br/>\n",
    "            Have you read the <a href=\"../README.md\">README</a>? Many common questions are answered here!<br/>\n",
    "            Have you checked out the guides in the <a href=\"../guides/01_intro.ipynb\">guides</a> folder?<br/>\n",
    "            Well in that case, you're ready!!\n",
    "            </span>\n",
    "        </td>\n",
    "    </tr>\n",
    "</table>"
   ]
  },
  {
   "cell_type": "markdown",
   "metadata": {},
   "source": [
    "<table style=\"margin: 0; text-align: left; width:100%\">\n",
    "    <tr>\n",
    "        <td style=\"width: 150px; height: 150px; vertical-align: middle;\">\n",
    "            <img src=\"../assets/tools.png\" width=\"150\" height=\"150\" style=\"display: block;\" />\n",
    "        </td>\n",
    "        <td>\n",
    "            <h2 style=\"color:#00bfff;\">This code is a live resource - keep an eye out for my updates</h2>\n",
    "            <span style=\"color:#00bfff;\">I push updates regularly. As people ask questions or have problems, I add more examples and improve explanations. As a result, the code below might not be identical to the videos, as I've added more steps and better comments. Consider this like an interactive book that accompanies the lectures.<br/><br/>\n",
    "            I try to send emails regularly with important updates related to the course. You can find this in the 'Announcements' section of Udemy in the left sidebar. You can also choose to receive my emails via your Notification Settings in Udemy. I'm respectful of your inbox and always try to add value with my emails!\n",
    "            </span>\n",
    "        </td>\n",
    "    </tr>\n",
    "</table>"
   ]
  },
  {
   "cell_type": "markdown",
   "metadata": {},
   "source": [
    "### And please do remember to contact me if I can help\n",
    "\n",
    "And I love to connect: https://www.linkedin.com/in/eddonner/\n",
    "\n",
    "\n",
    "### New to Notebooks like this one? Head over to the guides folder!\n",
    "\n",
    "Just to check you've already added the Python and Jupyter extensions to Cursor, if not already installed:\n",
    "- Open extensions (View >> extensions)\n",
    "- Search for python, and when the results show, click on the ms-python one, and Install it if not already installed\n",
    "- Search for jupyter, and when the results show, click on the Microsoft one, and Install it if not already installed  \n",
    "Then View >> Explorer to bring back the File Explorer.\n",
    "\n",
    "And then:\n",
    "1. Click where it says \"Select Kernel\" near the top right, and select the option called `.venv (Python 3.12.9)` or similar, which should be the first choice or the most prominent choice. You may need to choose \"Python Environments\" first.\n",
    "2. Click in each \"cell\" below, starting with the cell immediately below this text, and press Shift+Enter to run\n",
    "3. Enjoy!\n",
    "\n",
    "After you click \"Select Kernel\", if there is no option like `.venv (Python 3.12.9)` then please do the following:  \n",
    "1. On Mac: From the Cursor menu, choose Settings >> VS Code Settings (NOTE: be sure to select `VSCode Settings` not `Cursor Settings`);  \n",
    "On Windows PC: From the File menu, choose Preferences >> VS Code Settings(NOTE: be sure to select `VSCode Settings` not `Cursor Settings`)  \n",
    "2. In the Settings search bar, type \"venv\"  \n",
    "3. In the field \"Path to folder with a list of Virtual Environments\" put the path to the project root, like C:\\Users\\username\\projects\\agents (on a Windows PC) or /Users/username/projects/agents (on Mac or Linux).  \n",
    "And then try again.\n",
    "\n",
    "Having problems with missing Python versions in that list? Have you ever used Anaconda before? It might be interferring. Quit Cursor, bring up a new command line, and make sure that your Anaconda environment is deactivated:    \n",
    "`conda deactivate`  \n",
    "And if you still have any problems with conda and python versions, it's possible that you will need to run this too:  \n",
    "`conda config --set auto_activate_base false`  \n",
    "and then from within the Agents directory, you should be able to run `uv python list` and see the Python 3.12 version."
   ]
  },
  {
   "cell_type": "code",
   "execution_count": 1,
   "metadata": {},
   "outputs": [],
   "source": [
    "# First let's do an import. If you get an Import Error, double check that your Kernel is correct..\n",
    "\n",
    "from dotenv import load_dotenv\n"
   ]
  },
  {
   "cell_type": "code",
   "execution_count": 2,
   "metadata": {},
   "outputs": [
    {
     "data": {
      "text/plain": [
       "True"
      ]
     },
     "execution_count": 2,
     "metadata": {},
     "output_type": "execute_result"
    }
   ],
   "source": [
    "# Next it's time to load the API keys into environment variables\n",
    "# If this returns false, see the next cell!\n",
    "\n",
    "load_dotenv(override=True)"
   ]
  },
  {
   "cell_type": "markdown",
   "metadata": {},
   "source": [
    "### Wait, did that just output `False`??\n",
    "\n",
    "If so, the most common reason is that you didn't save your `.env` file after adding the key! Be sure to have saved.\n",
    "\n",
    "Also, make sure the `.env` file is named precisely `.env` and is in the project root directory (`agents`)\n",
    "\n",
    "By the way, your `.env` file should have a stop symbol next to it in Cursor on the left, and that's actually a good thing: that's Cursor saying to you, \"hey, I realize this is a file filled with secret information, and I'm not going to send it to an external AI to suggest changes, because your keys should not be shown to anyone else.\""
   ]
  },
  {
   "cell_type": "markdown",
   "metadata": {},
   "source": [
    "<table style=\"margin: 0; text-align: left; width:100%\">\n",
    "    <tr>\n",
    "        <td style=\"width: 150px; height: 150px; vertical-align: middle;\">\n",
    "            <img src=\"../assets/stop.png\" width=\"150\" height=\"150\" style=\"display: block;\" />\n",
    "        </td>\n",
    "        <td>\n",
    "            <h2 style=\"color:#ff7800;\">Final reminders</h2>\n",
    "            <span style=\"color:#ff7800;\">1. If you're not confident about Environment Variables or Web Endpoints / APIs, please read Topics 3 and 5 in this <a href=\"../guides/04_technical_foundations.ipynb\">technical foundations guide</a>.<br/>\n",
    "            2. If you want to use AIs other than OpenAI, like Gemini, DeepSeek or Ollama (free), please see the first section in this <a href=\"../guides/09_ai_apis_and_ollama.ipynb\">AI APIs guide</a>.<br/>\n",
    "            3. If you ever get a Name Error in Python, you can always fix it immediately; see the last section of this <a href=\"../guides/06_python_foundations.ipynb\">Python Foundations guide</a> and follow both tutorials and exercises.<br/>\n",
    "            </span>\n",
    "        </td>\n",
    "    </tr>\n",
    "</table>"
   ]
  },
  {
   "cell_type": "code",
   "execution_count": 3,
   "metadata": {},
   "outputs": [
    {
     "name": "stdout",
     "output_type": "stream",
     "text": [
      "Gemini API Key exists and begins AIza\n"
     ]
    }
   ],
   "source": [
    "# Check the key - if you're not using OpenAI, check whichever key you're using! Ollama doesn't need a key.\n",
    "\n",
    "import os\n",
    "gemini_api_key = os.getenv('GEMINI_API_KEY')\n",
    "GEMINI_BASE_URL = \"https://generativelanguage.googleapis.com/v1beta/openai/\"\n",
    "\n",
    "\n",
    "if gemini_api_key:\n",
    "    print(f\"Gemini API Key exists and begins {gemini_api_key[:4]}\")\n",
    "else:\n",
    "    print(\"Gemini API Key not set - please head to the troubleshooting guide in the setup folder\")\n",
    "    \n"
   ]
  },
  {
   "cell_type": "code",
   "execution_count": 4,
   "metadata": {},
   "outputs": [],
   "source": [
    "# And now - the all important import statement\n",
    "# If you get an import error - head over to troubleshooting in the Setup folder\n",
    "# Even for other LLM providers like Gemini, you still use this OpenAI import - see Guide 9 for why\n",
    "\n",
    "from openai import OpenAI"
   ]
  },
  {
   "cell_type": "code",
   "execution_count": 5,
   "metadata": {},
   "outputs": [],
   "source": [
    "# And now we'll create an instance of the OpenAI class\n",
    "# If you're not sure what it means to create an instance of a class - head over to the guides folder (guide 6)!\n",
    "# If you get a NameError - head over to the guides folder (guide 6)to learn about NameErrors - always instantly fixable\n",
    "# If you're not using OpenAI, you just need to slightly modify this - precise instructions are in the AI APIs guide (guide 9)\n",
    "gemini = OpenAI(base_url=GEMINI_BASE_URL, api_key=gemini_api_key)"
   ]
  },
  {
   "cell_type": "code",
   "execution_count": 6,
   "metadata": {},
   "outputs": [],
   "source": [
    "# Create a list of messages in the familiar OpenAI format\n",
    "\n",
    "messages = [{\"role\": \"user\", \"content\": \"What is 2+2?\"}]"
   ]
  },
  {
   "cell_type": "code",
   "execution_count": 7,
   "metadata": {},
   "outputs": [
    {
     "name": "stdout",
     "output_type": "stream",
     "text": [
      "2 + 2 = 4\n"
     ]
    }
   ],
   "source": [
    "# Using the Gemini 2.5 flash model\n",
    "\n",
    "response = gemini.chat.completions.create(\n",
    "    model=\"gemini-2.5-flash\",\n",
    "    messages=messages\n",
    ")\n",
    "\n",
    "print(response.choices[0].message.content)"
   ]
  },
  {
   "cell_type": "code",
   "execution_count": 8,
   "metadata": {},
   "outputs": [],
   "source": [
    "# And now - let's ask for a question:\n",
    "\n",
    "question = \"Please propose a hard, challenging question to assess someone's IQ. Respond only with the question.\"\n",
    "messages = [{\"role\": \"user\", \"content\": question}]\n"
   ]
  },
  {
   "cell_type": "code",
   "execution_count": 10,
   "metadata": {},
   "outputs": [
    {
     "name": "stdout",
     "output_type": "stream",
     "text": [
      "What should replace the question mark?\n",
      "\n",
      "---\n",
      "\n",
      "Consider a 3x3 grid where each cell contains:\n",
      "1.  An outer geometric shape (Square, Circle, or Triangle).\n",
      "2.  An inner geometric shape (a smaller Square, Circle, or Triangle).\n",
      "3.  A number of small filled circles (dots).\n",
      "\n",
      "The grid is as follows:\n",
      "\n",
      "[ (Outer Square, Inner Square), 1 dot ] | [ (Outer Square, Inner Circle), 2 dots ] | [ (Outer Square, Inner Triangle), 3 dots ]\n",
      "---------------------------------------|-----------------------------------------|-------------------------------------------\n",
      "[ (Outer Circle, Inner Circle), 2 dots ] | [ (Outer Circle, Inner Triangle), 4 dots ] | [ (Outer Circle, Inner Square), 6 dots ]\n",
      "---------------------------------------|-----------------------------------------|-------------------------------------------\n",
      "[ (Outer Triangle, Inner Triangle), 3 dots ] | [ (Outer Triangle, Inner Square), 6 dots ] | [ ? ]\n"
     ]
    }
   ],
   "source": [
    "response = gemini.chat.completions.create(\n",
    "    model = \"gemini-2.5-flash\",\n",
    "    messages=messages\n",
    ")\n",
    "\n",
    "question = response.choices[0].message.content\n",
    "\n",
    "print(question)\n"
   ]
  },
  {
   "cell_type": "code",
   "execution_count": 11,
   "metadata": {},
   "outputs": [],
   "source": [
    "# form a new messages list\n",
    "messages = [{\"role\": \"user\", \"content\": question}]\n"
   ]
  },
  {
   "cell_type": "code",
   "execution_count": 12,
   "metadata": {},
   "outputs": [
    {
     "name": "stdout",
     "output_type": "stream",
     "text": [
      "Let's analyze the patterns for each of the three attributes in the 3x3 grid:\n",
      "\n",
      "**1. Outer Geometric Shape:**\n",
      "*   **Row 1:** Square, Square, Square\n",
      "*   **Row 2:** Circle, Circle, Circle\n",
      "*   **Row 3:** Triangle, Triangle, ?\n",
      "\n",
      "The pattern here is that the outer shape remains constant across each row.\n",
      "Therefore, for the third row, the outer shape for the missing cell must be **Triangle**.\n",
      "\n",
      "**2. Inner Geometric Shape:**\n",
      "*   **Row 1:** Inner Square, Inner Circle, Inner Triangle\n",
      "*   **Row 2:** Inner Circle, Inner Triangle, Inner Square\n",
      "*   **Row 3:** Inner Triangle, Inner Square, ?\n",
      "\n",
      "The pattern here is a cyclic shift of the three shapes (Square, Circle, Triangle).\n",
      "Row 2 is a left-shift of Row 1 (Square -> Circle, Circle -> Triangle, Triangle -> Square).\n",
      "Following this pattern, Row 3 should be a left-shift of Row 2:\n",
      "*   Inner Circle in R2C1 becomes Inner Triangle in R3C1.\n",
      "*   Inner Triangle in R2C2 becomes Inner Square in R3C2.\n",
      "*   Inner Square in R2C3 becomes Inner **Circle** in R3C3.\n",
      "\n",
      "Therefore, for the missing cell, the inner shape must be **Circle**.\n",
      "\n",
      "**3. Number of Small Filled Circles (Dots):**\n",
      "*   **Row 1:** 1, 2, 3\n",
      "*   **Row 2:** 2, 4, 6\n",
      "*   **Row 3:** 3, 6, ?\n",
      "\n",
      "Let's identify the pattern by considering the row number (i) and column number (j).\n",
      "*   For R1C1 (i=1, j=1): 1 dot. (1 * 1 = 1)\n",
      "*   For R1C2 (i=1, j=2): 2 dots. (1 * 2 = 2)\n",
      "*   For R1C3 (i=1, j=3): 3 dots. (1 * 3 = 3)\n",
      "\n",
      "*   For R2C1 (i=2, j=1): 2 dots. (2 * 1 = 2)\n",
      "*   For R2C2 (i=2, j=2): 4 dots. (2 * 2 = 4)\n",
      "*   For R2C3 (i=2, j=3): 6 dots. (2 * 3 = 6)\n",
      "\n",
      "This pattern is consistent: The number of dots is the product of the row number and the column number (dots = i * j).\n",
      "\n",
      "Applying this pattern to the missing cell, which is R3C3 (i=3, j=3):\n",
      "*   Number of dots = 3 * 3 = **9**.\n",
      "\n",
      "**Conclusion:**\n",
      "Combining all the findings:\n",
      "*   Outer Shape: Triangle\n",
      "*   Inner Shape: Circle\n",
      "*   Number of Dots: 9\n",
      "\n",
      "Therefore, the missing cell should contain:\n",
      "**[ (Outer Triangle, Inner Circle), 9 dots ]**\n"
     ]
    }
   ],
   "source": [
    "# Ask it again\n",
    "\n",
    "response = gemini.chat.completions.create(\n",
    "    model = \"gemini-2.5-flash\",\n",
    "    messages=messages\n",
    ")\n",
    "\n",
    "answer = response.choices[0].message.content\n",
    "print(answer)\n"
   ]
  },
  {
   "cell_type": "code",
   "execution_count": 13,
   "metadata": {},
   "outputs": [
    {
     "data": {
      "text/markdown": [
       "Let's analyze the patterns for each of the three attributes in the 3x3 grid:\n",
       "\n",
       "**1. Outer Geometric Shape:**\n",
       "*   **Row 1:** Square, Square, Square\n",
       "*   **Row 2:** Circle, Circle, Circle\n",
       "*   **Row 3:** Triangle, Triangle, ?\n",
       "\n",
       "The pattern here is that the outer shape remains constant across each row.\n",
       "Therefore, for the third row, the outer shape for the missing cell must be **Triangle**.\n",
       "\n",
       "**2. Inner Geometric Shape:**\n",
       "*   **Row 1:** Inner Square, Inner Circle, Inner Triangle\n",
       "*   **Row 2:** Inner Circle, Inner Triangle, Inner Square\n",
       "*   **Row 3:** Inner Triangle, Inner Square, ?\n",
       "\n",
       "The pattern here is a cyclic shift of the three shapes (Square, Circle, Triangle).\n",
       "Row 2 is a left-shift of Row 1 (Square -> Circle, Circle -> Triangle, Triangle -> Square).\n",
       "Following this pattern, Row 3 should be a left-shift of Row 2:\n",
       "*   Inner Circle in R2C1 becomes Inner Triangle in R3C1.\n",
       "*   Inner Triangle in R2C2 becomes Inner Square in R3C2.\n",
       "*   Inner Square in R2C3 becomes Inner **Circle** in R3C3.\n",
       "\n",
       "Therefore, for the missing cell, the inner shape must be **Circle**.\n",
       "\n",
       "**3. Number of Small Filled Circles (Dots):**\n",
       "*   **Row 1:** 1, 2, 3\n",
       "*   **Row 2:** 2, 4, 6\n",
       "*   **Row 3:** 3, 6, ?\n",
       "\n",
       "Let's identify the pattern by considering the row number (i) and column number (j).\n",
       "*   For R1C1 (i=1, j=1): 1 dot. (1 * 1 = 1)\n",
       "*   For R1C2 (i=1, j=2): 2 dots. (1 * 2 = 2)\n",
       "*   For R1C3 (i=1, j=3): 3 dots. (1 * 3 = 3)\n",
       "\n",
       "*   For R2C1 (i=2, j=1): 2 dots. (2 * 1 = 2)\n",
       "*   For R2C2 (i=2, j=2): 4 dots. (2 * 2 = 4)\n",
       "*   For R2C3 (i=2, j=3): 6 dots. (2 * 3 = 6)\n",
       "\n",
       "This pattern is consistent: The number of dots is the product of the row number and the column number (dots = i * j).\n",
       "\n",
       "Applying this pattern to the missing cell, which is R3C3 (i=3, j=3):\n",
       "*   Number of dots = 3 * 3 = **9**.\n",
       "\n",
       "**Conclusion:**\n",
       "Combining all the findings:\n",
       "*   Outer Shape: Triangle\n",
       "*   Inner Shape: Circle\n",
       "*   Number of Dots: 9\n",
       "\n",
       "Therefore, the missing cell should contain:\n",
       "**[ (Outer Triangle, Inner Circle), 9 dots ]**"
      ],
      "text/plain": [
       "<IPython.core.display.Markdown object>"
      ]
     },
     "metadata": {},
     "output_type": "display_data"
    }
   ],
   "source": [
    "from IPython.display import Markdown, display\n",
    "\n",
    "display(Markdown(answer))\n",
    "\n"
   ]
  },
  {
   "cell_type": "markdown",
   "metadata": {},
   "source": [
    "# Congratulations!\n",
    "\n",
    "That was a small, simple step in the direction of Agentic AI, with your new environment!\n",
    "\n",
    "Next time things get more interesting..."
   ]
  },
  {
   "cell_type": "markdown",
   "metadata": {},
   "source": [
    "<table style=\"margin: 0; text-align: left; width:100%\">\n",
    "    <tr>\n",
    "        <td style=\"width: 150px; height: 150px; vertical-align: middle;\">\n",
    "            <img src=\"../assets/exercise.png\" width=\"150\" height=\"150\" style=\"display: block;\" />\n",
    "        </td>\n",
    "        <td>\n",
    "            <h2 style=\"color:#ff7800;\">Exercise</h2>\n",
    "            <span style=\"color:#ff7800;\">Now try this commercial application:<br/>\n",
    "            First ask the LLM to pick a business area that might be worth exploring for an Agentic AI opportunity.<br/>\n",
    "            Then ask the LLM to present a pain-point in that industry - something challenging that might be ripe for an Agentic solution.<br/>\n",
    "            Finally have 3 third LLM call propose the Agentic AI solution. <br/>\n",
    "            We will cover this at up-coming labs, so don't worry if you're unsure.. just give it a try!\n",
    "            </span>\n",
    "        </td>\n",
    "    </tr>\n",
    "</table>"
   ]
  },
  {
   "cell_type": "code",
   "execution_count": 14,
   "metadata": {},
   "outputs": [
    {
     "name": "stdout",
     "output_type": "stream",
     "text": [
      "Software Development and IT Operations\n"
     ]
    }
   ],
   "source": [
    "# First create the messages:\n",
    "\n",
    "messages = [{\"role\": \"user\", \"content\": \"I am looking for business sectors that can benefit from agentic ai solutions. \\\n",
    "    Suggest one that you think is interesting. Take into account the number of potential customers and the size of the market.\\\n",
    "        Respond only with the business sector.\"}]\n",
    "\n",
    "# Then make the first call:\n",
    "response = gemini.chat.completions.create(\n",
    "    model = \"gemini-2.5-flash\",\n",
    "    messages=messages\n",
    ")\n",
    "\n",
    "business_idea = response.choices[0].message.content\n",
    "print(business_idea)"
   ]
  },
  {
   "cell_type": "code",
   "execution_count": 18,
   "metadata": {},
   "outputs": [
    {
     "name": "stdout",
     "output_type": "stream",
     "text": [
      "**Pain Point:** **Systemic Knowledge Silos and Inefficient Onboarding in Large, Complex IT Environments.**\n",
      "\n",
      "Vast, distributed IT systems, coupled with evolving teams and dispersed documentation, create deep knowledge silos. New engineers struggle to grasp system interdependencies, historical context, and operational nuances, leading to prolonged onboarding, increased error rates, and slow incident resolution. Existing documentation is often outdated, incomplete, or difficult to navigate, hindering knowledge sharing and efficient problem-solving across development and operations.\n"
     ]
    }
   ],
   "source": [
    "prompt = f\"I want to implement Agentic solutions in the field of {business_idea}. \\\n",
    "    Please suggest a pain point that is challenging and that could be solved with Agentic AI solutions.\\\n",
    "        Only respond with a summary of the pain point, no more than 100 words.\"\n",
    "\n",
    "messages = [{\"role\": \"user\", \"content\": prompt}]\n",
    "\n",
    "response = gemini.chat.completions.create(\n",
    "    model = \"gemini-2.5-flash-lite\",\n",
    "    messages=messages\n",
    ")\n",
    "pain_point = response.choices[0].message.content\n",
    "print(pain_point)"
   ]
  },
  {
   "cell_type": "code",
   "execution_count": 19,
   "metadata": {},
   "outputs": [
    {
     "name": "stdout",
     "output_type": "stream",
     "text": [
      "This agentic AI solution, **\"Knowledge Weaver,\"** tackles systemic knowledge silos and inefficient onboarding. It comprises:\n",
      "\n",
      "1.  **Contextual Ingestion Agent:** Continuously monitors code repositories, incident logs, wikis, and infrastructure configurations.\n",
      "2.  **Dependency Mapping Agent:** Identifies and visualizes interdependencies between systems, services, and their historical evolution.\n",
      "3.  **Onboarding Assistant Agent:** Acts as a personalized AI mentor, answering newcomer questions with context-aware information from the ingested knowledge base. It can also generate learning paths and simulated scenarios.\n",
      "4.  **Documentation Refinement Agent:** Proactively flags outdated or missing documentation and suggests updates based on observed system changes and common operational questions.\n",
      "\n",
      "Knowledge Weaver creates a living, interconnected knowledge graph, drastically reducing onboarding time, improving error prevention, and accelerating incident resolution by making tacit and explicit knowledge readily accessible and understandable.\n"
     ]
    }
   ],
   "source": [
    "prompt = f\"I want to implement Agentic solutions in the field of {business_idea}. \\\n",
    "    The pain point I want to solve is as following: {pain_point}. \\\n",
    "    Please propose and agentic AI solution for this problem. \\\n",
    "        Only respond with a summary of the solution, no more than 200 words.\"\n",
    "\n",
    "messages = [{\"role\": \"user\", \"content\": prompt}]\n",
    "\n",
    "response = gemini.chat.completions.create(\n",
    "    model = \"gemini-2.5-flash-lite\",\n",
    "    messages=messages\n",
    ")\n",
    "solution = response.choices[0].message.content\n",
    "print(solution)\n",
    "\n"
   ]
  },
  {
   "cell_type": "code",
   "execution_count": 20,
   "metadata": {},
   "outputs": [
    {
     "data": {
      "text/markdown": [
       "This agentic AI solution, **\"Knowledge Weaver,\"** tackles systemic knowledge silos and inefficient onboarding. It comprises:\n",
       "\n",
       "1.  **Contextual Ingestion Agent:** Continuously monitors code repositories, incident logs, wikis, and infrastructure configurations.\n",
       "2.  **Dependency Mapping Agent:** Identifies and visualizes interdependencies between systems, services, and their historical evolution.\n",
       "3.  **Onboarding Assistant Agent:** Acts as a personalized AI mentor, answering newcomer questions with context-aware information from the ingested knowledge base. It can also generate learning paths and simulated scenarios.\n",
       "4.  **Documentation Refinement Agent:** Proactively flags outdated or missing documentation and suggests updates based on observed system changes and common operational questions.\n",
       "\n",
       "Knowledge Weaver creates a living, interconnected knowledge graph, drastically reducing onboarding time, improving error prevention, and accelerating incident resolution by making tacit and explicit knowledge readily accessible and understandable."
      ],
      "text/plain": [
       "<IPython.core.display.Markdown object>"
      ]
     },
     "metadata": {},
     "output_type": "display_data"
    }
   ],
   "source": [
    "from IPython.display import Markdown, display\n",
    "\n",
    "display(Markdown(solution))\n",
    "\n"
   ]
  },
  {
   "cell_type": "markdown",
   "metadata": {},
   "source": []
  }
 ],
 "metadata": {
  "kernelspec": {
   "display_name": ".venv",
   "language": "python",
   "name": "python3"
  },
  "language_info": {
   "codemirror_mode": {
    "name": "ipython",
    "version": 3
   },
   "file_extension": ".py",
   "mimetype": "text/x-python",
   "name": "python",
   "nbconvert_exporter": "python",
   "pygments_lexer": "ipython3",
   "version": "3.12.11"
  }
 },
 "nbformat": 4,
 "nbformat_minor": 2
}
